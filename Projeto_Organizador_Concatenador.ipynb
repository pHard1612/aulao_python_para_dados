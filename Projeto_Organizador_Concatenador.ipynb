{
 "cells": [
  {
   "cell_type": "markdown",
   "id": "7ce2638d",
   "metadata": {},
   "source": [
    "# 📁 Projeto: Organizador e Concatenador de Arquivos CSV\n",
    "\n",
    "Este notebook realiza:\n",
    "1. A organização de arquivos por tipo em subpastas (PDFs, Imagens, CSVs);\n",
    "2. A leitura e concatenação de todos os arquivos CSV em um único arquivo `dados_concatenados.csv`.\n",
    "\n",
    "> Ideal para iniciantes que querem aplicar automação com Python no dia a dia."
   ]
  },
  {
   "cell_type": "markdown",
   "id": "0949a2aa",
   "metadata": {},
   "source": [
    "## 🔧 Etapa 1: Configurar a pasta de origem\n",
    "Altere abaixo o caminho da pasta onde estão os arquivos que deseja organizar."
   ]
  },
  {
   "cell_type": "code",
   "execution_count": null,
   "id": "f413e4f3",
   "metadata": {},
   "outputs": [],
   "source": [
    "import os\n",
    "from pathlib import Path\n",
    "\n",
    "# Caminho da pasta de origem (altere conforme necessário)\n",
    "pasta_origem = Path('/caminho/para/sua/pasta')\n",
    "\n",
    "# Verifica se a pasta existe\n",
    "if not pasta_origem.exists():\n",
    "    raise ValueError('⚠️ Caminho inválido. Verifique o caminho da pasta.')"
   ]
  },
  {
   "cell_type": "markdown",
   "id": "e5aba494",
   "metadata": {},
   "source": [
    "## 📂 Etapa 2: Criar subpastas e organizar arquivos"
   ]
  },
  {
   "cell_type": "code",
   "execution_count": null,
   "id": "4d90cd2a",
   "metadata": {},
   "outputs": [],
   "source": [
    "import shutil\n",
    "\n",
    "# Tipos de arquivos e suas extensões\n",
    "categorias = {\n",
    "    'PDFs': ['.pdf'],\n",
    "    'Imagens': ['.png', '.jpg', '.jpeg'],\n",
    "    'CSVs': ['.csv']\n",
    "}\n",
    "\n",
    "# Criação das subpastas\n",
    "for pasta, extensoes in categorias.items():\n",
    "    destino = pasta_origem / pasta\n",
    "    destino.mkdir(exist_ok=True)\n",
    "\n",
    "# Mover arquivos para suas respectivas pastas\n",
    "for arquivo in pasta_origem.iterdir():\n",
    "    if arquivo.is_file():\n",
    "        for pasta, extensoes in categorias.items():\n",
    "            if any(arquivo.name.lower().endswith(ext) for ext in extensoes):\n",
    "                shutil.move(str(arquivo), str(pasta_origem / pasta / arquivo.name))\n",
    "                print(f'Movido: {arquivo.name} → {pasta}/')"
   ]
  },
  {
   "cell_type": "markdown",
   "id": "ee3e9ac8",
   "metadata": {},
   "source": [
    "## 📊 Etapa 3: Concatenar todos os arquivos CSV"
   ]
  },
  {
   "cell_type": "code",
   "execution_count": null,
   "id": "53a27dbc",
   "metadata": {},
   "outputs": [],
   "source": [
    "import pandas as pd\n",
    "\n",
    "pasta_csv = pasta_origem / 'CSVs'\n",
    "lista_csv = list(pasta_csv.glob('*.csv'))\n",
    "\n",
    "# Verifica se há arquivos CSV\n",
    "if not lista_csv:\n",
    "    print('⚠️ Nenhum arquivo CSV encontrado.')\n",
    "else:\n",
    "    lista_df = []\n",
    "    for csv in lista_csv:\n",
    "        try:\n",
    "            df = pd.read_csv(csv)\n",
    "            lista_df.append(df)\n",
    "            print(f'Lido: {csv.name}')\n",
    "        except Exception as e:\n",
    "            print(f'Erro ao ler {csv.name}: {e}')\n",
    "\n",
    "    # Concatenar todos os DataFrames\n",
    "    df_final = pd.concat(lista_df, ignore_index=True)\n",
    "    caminho_saida = pasta_csv / 'dados_concatenados.csv'\n",
    "    df_final.to_csv(caminho_saida, index=False)\n",
    "    print(f'✅ Arquivo final salvo em: {caminho_saida}')"
   ]
  }
 ],
 "metadata": {},
 "nbformat": 4,
 "nbformat_minor": 5
}
