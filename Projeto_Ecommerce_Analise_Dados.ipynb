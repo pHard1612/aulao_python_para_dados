{
 "cells": [
  {
   "cell_type": "markdown",
   "id": "db4ff50b",
   "metadata": {},
   "source": [
    "# 📊 Análise de Dados de E-commerce (Projeto Python para Dados)\n",
    "Este notebook simula uma análise completa de dados de vendas com problemas reais como valores nulos, campos despadronizados, e tipos de dados mistos. Ideal para praticar tratamento de dados e visualizações."
   ]
  },
  {
   "cell_type": "code",
   "execution_count": null,
   "id": "35a8b262",
   "metadata": {},
   "outputs": [],
   "source": [
    "import pandas as pd\n",
    "import numpy as np\n",
    "import matplotlib.pyplot as plt\n",
    "import seaborn as sns\n",
    "\n",
    "pd.set_option('display.max_columns', None)\n",
    "sns.set(style=\"whitegrid\")\n"
   ]
  },
  {
   "cell_type": "markdown",
   "id": "aa8b0678",
   "metadata": {},
   "source": [
    "## 📥 Carregamento dos Dados"
   ]
  },
  {
   "cell_type": "code",
   "execution_count": null,
   "id": "421debbe",
   "metadata": {},
   "outputs": [],
   "source": [
    "df = pd.read_csv(\"ecommerce_ficticio.csv\")\n",
    "df.head()"
   ]
  },
  {
   "cell_type": "markdown",
   "id": "42a63300",
   "metadata": {},
   "source": [
    "## 🔍 Verificando tipos de dados e valores ausentes"
   ]
  },
  {
   "cell_type": "code",
   "execution_count": null,
   "id": "64b92c76",
   "metadata": {},
   "outputs": [],
   "source": [
    "df.info()\n",
    "df.isnull().sum()"
   ]
  },
  {
   "cell_type": "markdown",
   "id": "538250b2",
   "metadata": {},
   "source": [
    "## 🧹 Tratamento de dados ausentes"
   ]
  },
  {
   "cell_type": "code",
   "execution_count": null,
   "id": "e684386a",
   "metadata": {},
   "outputs": [],
   "source": [
    "# Remover registros sem CustomerID ou InvoiceNo\n",
    "df = df.dropna(subset=[\"CustomerID\", \"InvoiceNo\"])"
   ]
  },
  {
   "cell_type": "markdown",
   "id": "db34894b",
   "metadata": {},
   "source": [
    "## 🔁 Conversão de Tipos e Criação de Novas Colunas"
   ]
  },
  {
   "cell_type": "code",
   "execution_count": null,
   "id": "747f9cc8",
   "metadata": {},
   "outputs": [],
   "source": [
    "df['InvoiceDate'] = pd.to_datetime(df['InvoiceDate'])\n",
    "df['TotalPrice'] = df['Quantity'] * df['UnitPrice']"
   ]
  },
  {
   "cell_type": "markdown",
   "id": "2d5c5bcf",
   "metadata": {},
   "source": [
    "## ✨ Padronização de Dados Categóricos"
   ]
  },
  {
   "cell_type": "code",
   "execution_count": null,
   "id": "7a79afbf",
   "metadata": {},
   "outputs": [],
   "source": [
    "df['Country'] = df['Country'].str.strip().str.upper()\n",
    "df = df[df['Country'] != '']"
   ]
  },
  {
   "cell_type": "markdown",
   "id": "d5beed6b",
   "metadata": {},
   "source": [
    "## 📈 Análises de Faturamento"
   ]
  },
  {
   "cell_type": "code",
   "execution_count": null,
   "id": "cbbcbe11",
   "metadata": {},
   "outputs": [],
   "source": [
    "# Faturamento por país\n",
    "country_sales = df.groupby('Country')['TotalPrice'].sum().sort_values(ascending=False)\n",
    "print(country_sales)\n",
    "\n",
    "# Faturamento por mês\n",
    "df['Month'] = df['InvoiceDate'].dt.to_period('M')\n",
    "monthly_sales = df.groupby('Month')['TotalPrice'].sum()\n",
    "\n",
    "plt.figure(figsize=(10,5))\n",
    "monthly_sales.plot(kind='bar', color='skyblue')\n",
    "plt.title(\"Faturamento por Mês\")\n",
    "plt.ylabel(\"Total em vendas\")\n",
    "plt.xticks(rotation=45)\n",
    "plt.tight_layout()\n",
    "plt.show()"
   ]
  },
  {
   "cell_type": "markdown",
   "id": "5551c568",
   "metadata": {},
   "source": [
    "## 🏆 Produto Mais Vendido"
   ]
  },
  {
   "cell_type": "code",
   "execution_count": null,
   "id": "92917914",
   "metadata": {},
   "outputs": [],
   "source": [
    "top_product = df.groupby('Description')['Quantity'].sum().sort_values(ascending=False)\n",
    "top_product.head()"
   ]
  },
  {
   "cell_type": "markdown",
   "id": "16a8b2fd",
   "metadata": {},
   "source": [
    "## ✅ Conclusão\n",
    "- Realizamos uma análise completa com limpeza, transformação e visualização de dados.\n",
    "- Praticamos técnicas essenciais em projetos reais de análise de dados.\n",
    "- Este projeto é ideal como prática para iniciantes e apresentação em cursos e atividades de extensão."
   ]
  }
 ],
 "metadata": {},
 "nbformat": 4,
 "nbformat_minor": 5
}